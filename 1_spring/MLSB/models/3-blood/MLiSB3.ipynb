{
  "cells": [
    {
      "cell_type": "markdown",
      "metadata": {
        "id": "J_LacOaTwj45"
      },
      "source": [
        "# **To Classify Different Leukocytes (WBCs) from Blood Sample Images**"
      ]
    },
    {
      "cell_type": "markdown",
      "metadata": {
        "id": "ExuEzBFRqn2z"
      },
      "source": [
        "# Import Statements"
      ]
    },
    {
      "cell_type": "markdown",
      "metadata": {
        "id": "4RJ_D1F0uwi7"
      },
      "source": [
        "cv2 ==> OpenCV (for image processing and performing computer vision tasks)"
      ]
    },
    {
      "cell_type": "markdown",
      "metadata": {
        "id": "jR_x0RJyvTQj"
      },
      "source": [
        "numpy (for performing mathematical operations on arrays)"
      ]
    },
    {
      "cell_type": "markdown",
      "metadata": {
        "id": "rltGErkJvUkN"
      },
      "source": [
        "pandas (for data analysis)"
      ]
    },
    {
      "cell_type": "markdown",
      "metadata": {
        "id": "_76uaD4_vl3K"
      },
      "source": [
        "tensorflow and keras (for model creation)"
      ]
    },
    {
      "cell_type": "markdown",
      "metadata": {
        "id": "Yej6tWqZvyBF"
      },
      "source": [
        "matplotlib (for visualizing results)"
      ]
    },
    {
      "cell_type": "code",
      "execution_count": null,
      "metadata": {
        "id": "HLOYDM1xSVo2"
      },
      "outputs": [],
      "source": [
        "import cv2\n",
        "import numpy as np\n",
        "import pandas as pd\n",
        "import tensorflow as tf\n",
        "from tensorflow.keras import layers\n",
        "from matplotlib import pyplot as plt"
      ]
    },
    {
      "cell_type": "markdown",
      "metadata": {
        "id": "Hr8z-vurqy0-"
      },
      "source": [
        "# Load the Data"
      ]
    },
    {
      "cell_type": "markdown",
      "metadata": {
        "id": "H2dC9J_1xLEx"
      },
      "source": [
        "Dataset contains 367 annotated 640 x 480 images of blood samples\n"
      ]
    },
    {
      "cell_type": "markdown",
      "metadata": {
        "id": "4HUxq2Uty98J"
      },
      "source": [
        "WBC types: Eosinophils, Lymphocytes, Monocytes, Neutrophils, and Basophils"
      ]
    },
    {
      "cell_type": "code",
      "execution_count": null,
      "metadata": {
        "id": "nC-8gCfgSWNR"
      },
      "outputs": [],
      "source": [
        "LABEL_PATH = \"labels.csv\"\n",
        "IMAGE_PATH = \"JPEGImages\""
      ]
    },
    {
      "cell_type": "code",
      "execution_count": null,
      "metadata": {
        "id": "UvgQLOgvvPx9"
      },
      "outputs": [],
      "source": [
        "def load_image(path):\n",
        "    try:\n",
        "        return cv2.cvtColor(cv2.imread(path), cv2.COLOR_BGR2RGB)\n",
        "    except:\n",
        "        return None"
      ]
    },
    {
      "cell_type": "code",
      "execution_count": null,
      "metadata": {
        "colab": {
          "base_uri": "https://localhost:8080/"
        },
        "id": "7mjvJUqKTGFG",
        "outputId": "3110fcd0-8d18-42a6-bc23-f66e37629d26"
      },
      "outputs": [
        {
          "output_type": "execute_result",
          "data": {
            "text/plain": [
              "NEUTROPHIL                206\n",
              "EOSINOPHIL                 88\n",
              "LYMPHOCYTE                 33\n",
              "MONOCYTE                   20\n",
              "BASOPHIL                    3\n",
              "NEUTROPHIL, NEUTROPHIL      3\n",
              "NEUTROPHIL, EOSINOPHIL      2\n",
              "EOSINOPHIL, EOSINOPHIL      1\n",
              "NEUTROPHIL,EOSINOPHIL       1\n",
              "LYMPHOCYTE, LYMPHOCYTE      1\n",
              "MONOCYTE, LYMPHOCYTE        1\n",
              "NEUTROPHIL, MONOCYTE        1\n",
              "EOSINOPHIL, LYMPHOCYTE      1\n",
              "EOSINOPHIL,EOSINOPHIL       1\n",
              "NEUTROPHIL,BASOPHIL         1\n",
              "NEUTROPHIL,NEUTROPHIL       1\n",
              "NEUTROPHIL, LYMPHOCYTE      1\n",
              "Name: label, dtype: int64"
            ]
          },
          "metadata": {},
          "execution_count": 4
        }
      ],
      "source": [
        "data = pd.read_csv(LABEL_PATH)[[\"Image\", \"Category\"]]\n",
        "data = data.rename(columns={\"Category\": \"label\", \"Image\": \"id\"})\n",
        "data = data[-pd.isna(data[\"label\"])]\n",
        "\n",
        "data[\"path\"] = [f\"{IMAGE_PATH}/BloodImage_{id:05}.jpg\" for id in data[\"id\"]]\n",
        "\n",
        "data[\"image\"] = [load_image(path) for path in data[\"path\"]]\n",
        "data = data[[im is not None for im in data[\"image\"]]]\n",
        "\n",
        "data[\"label\"].value_counts()"
      ]
    },
    {
      "cell_type": "markdown",
      "metadata": {
        "id": "2J11frYyxZ9k"
      },
      "source": [
        "Total: 367 Images"
      ]
    },
    {
      "cell_type": "markdown",
      "source": [
        "The dataset is very unbalanced. It also seems that some images contain more than one leukocyte."
      ],
      "metadata": {
        "id": "QGjP_nI-fbNh"
      }
    },
    {
      "cell_type": "markdown",
      "metadata": {
        "id": "Q0MgQdaKwWLd"
      },
      "source": [
        "# Filtering the Label"
      ]
    },
    {
      "cell_type": "code",
      "execution_count": null,
      "metadata": {
        "id": "BpGpi0BEv7ib"
      },
      "outputs": [],
      "source": [
        "def relabel(label):\n",
        "    if \",\" in label:\n",
        "        l1, l2 = label.split(\",\")\n",
        "        return l1 if l1 == l2 else None\n",
        "    else:\n",
        "        return label"
      ]
    },
    {
      "cell_type": "code",
      "execution_count": null,
      "metadata": {
        "colab": {
          "base_uri": "https://localhost:8080/"
        },
        "id": "KA3nIws9wd01",
        "outputId": "48f332b1-1f6d-4f1c-e32d-816b02ef9da1"
      },
      "outputs": [
        {
          "output_type": "stream",
          "name": "stderr",
          "text": [
            "/usr/local/lib/python3.7/dist-packages/ipykernel_launcher.py:1: SettingWithCopyWarning: \n",
            "A value is trying to be set on a copy of a slice from a DataFrame.\n",
            "Try using .loc[row_indexer,col_indexer] = value instead\n",
            "\n",
            "See the caveats in the documentation: https://pandas.pydata.org/pandas-docs/stable/user_guide/indexing.html#returning-a-view-versus-a-copy\n",
            "  \"\"\"Entry point for launching an IPython kernel.\n"
          ]
        },
        {
          "output_type": "execute_result",
          "data": {
            "text/plain": [
              "NEUTROPHIL    207\n",
              "EOSINOPHIL     89\n",
              "LYMPHOCYTE     33\n",
              "MONOCYTE       20\n",
              "BASOPHIL        3\n",
              "Name: label, dtype: int64"
            ]
          },
          "metadata": {},
          "execution_count": 6
        }
      ],
      "source": [
        "data[\"label\"] = [relabel(l) for l in data[\"label\"]]\n",
        "data = data[[l is not None for l in data[\"label\"]]]\n",
        "data[\"label\"].value_counts()"
      ]
    },
    {
      "cell_type": "code",
      "execution_count": null,
      "metadata": {
        "colab": {
          "base_uri": "https://localhost:8080/"
        },
        "id": "HMixWOcgwO_n",
        "outputId": "dcfd37de-083d-40eb-bf71-7912e0f89727"
      },
      "outputs": [
        {
          "output_type": "execute_result",
          "data": {
            "text/plain": [
              "array(['NEUTROPHIL', 'BASOPHIL', 'EOSINOPHIL', 'MONOCYTE', 'LYMPHOCYTE'],\n",
              "      dtype=object)"
            ]
          },
          "metadata": {},
          "execution_count": 7
        }
      ],
      "source": [
        "CLASS_LABELS = data[\"label\"].unique()\n",
        "CLASS_LABELS"
      ]
    },
    {
      "cell_type": "code",
      "execution_count": null,
      "metadata": {
        "colab": {
          "base_uri": "https://localhost:8080/"
        },
        "id": "wLOaYa3ZTuOJ",
        "outputId": "41aa5c94-caac-4a2c-fc5a-7e27d744ac56"
      },
      "outputs": [
        {
          "output_type": "execute_result",
          "data": {
            "text/plain": [
              "NEUTROPHIL    207\n",
              "EOSINOPHIL     89\n",
              "LYMPHOCYTE     33\n",
              "MONOCYTE       20\n",
              "BASOPHIL        3\n",
              "Name: label, dtype: int64"
            ]
          },
          "metadata": {},
          "execution_count": 8
        }
      ],
      "source": [
        "data[\"target\"] = [np.argmax(l == CLASS_LABELS) for l in data[\"label\"]]\n",
        "data[\"label\"].value_counts()"
      ]
    },
    {
      "cell_type": "markdown",
      "metadata": {
        "id": "jCMzH9NN1gT3"
      },
      "source": [
        "Label Encoding"
      ]
    },
    {
      "cell_type": "code",
      "execution_count": null,
      "metadata": {
        "colab": {
          "base_uri": "https://localhost:8080/"
        },
        "id": "syHdKvgRyYDK",
        "outputId": "93c991c5-1ddf-4bf2-b2b0-d6a3d35a1f90"
      },
      "outputs": [
        {
          "output_type": "execute_result",
          "data": {
            "text/plain": [
              "0    207\n",
              "2     89\n",
              "4     33\n",
              "3     20\n",
              "1      3\n",
              "Name: target, dtype: int64"
            ]
          },
          "metadata": {},
          "execution_count": 9
        }
      ],
      "source": [
        "data[\"target\"].value_counts()"
      ]
    },
    {
      "cell_type": "markdown",
      "metadata": {
        "id": "dA8yC4bIrBST"
      },
      "source": [
        "# Data Splitting"
      ]
    },
    {
      "cell_type": "markdown",
      "metadata": {
        "id": "xHh4S4LU2izy"
      },
      "source": [
        "stratify ==> to ensure that both the train and test sets have the proportion of examples in each class"
      ]
    },
    {
      "cell_type": "markdown",
      "metadata": {
        "id": "JdVwvxgZ2CJz"
      },
      "source": [
        "*tf.data.Dataset.from_tensor_slices()* ==> we can get the slices of an array in the form of objects"
      ]
    },
    {
      "cell_type": "markdown",
      "source": [
        "Training: 60%; Validation: 20%; Testing: 20%"
      ],
      "metadata": {
        "id": "3DT1T-A8fn6A"
      }
    },
    {
      "cell_type": "markdown",
      "source": [
        "352 Images"
      ],
      "metadata": {
        "id": "MS1FBVXR85yE"
      }
    },
    {
      "cell_type": "code",
      "execution_count": null,
      "metadata": {
        "id": "W26xta8oVjRs"
      },
      "outputs": [],
      "source": [
        "from sklearn.model_selection import train_test_split\n",
        "\n",
        "\n",
        "def split_dataset(data, targets, test_size=0.2, train_size=0.8):\n",
        "    data_rest, data_test, targets_rest, targets_test = train_test_split(\n",
        "        data, targets, test_size=test_size, stratify=targets\n",
        "    )\n",
        "\n",
        "    data_train, data_val, targets_train, targets_val = train_test_split(\n",
        "        data_rest, targets_rest, train_size=train_size, stratify=targets_rest\n",
        "    )\n",
        "\n",
        "    return (\n",
        "        tf.data.Dataset.from_tensor_slices((data_train, targets_train)),\n",
        "        tf.data.Dataset.from_tensor_slices((data_val, targets_val)),\n",
        "        tf.data.Dataset.from_tensor_slices((data_test, targets_test)),\n",
        "    )"
      ]
    },
    {
      "cell_type": "code",
      "execution_count": null,
      "metadata": {
        "id": "69lZhN1ZWEYB"
      },
      "outputs": [],
      "source": [
        "baseline_train, baseline_val, baseline_test = split_dataset(\n",
        "    data=[np.asarray(cv2.resize(i, dsize=(256, 192))) for i in data[\"image\"]],\n",
        "    targets=[np.argmax(l == CLASS_LABELS) for l in data[\"label\"]],\n",
        ")"
      ]
    },
    {
      "cell_type": "markdown",
      "source": [
        "Images are scaled from 640x480 to 256x192 to make the training faster."
      ],
      "metadata": {
        "id": "-tMYlm04i6gd"
      }
    },
    {
      "cell_type": "markdown",
      "source": [
        "The model won't care about the dimenstions of the input because it's made from CNNs."
      ],
      "metadata": {
        "id": "9OXNJf0ljD7W"
      }
    },
    {
      "cell_type": "markdown",
      "metadata": {
        "id": "0zE2oIk1sVZm"
      },
      "source": [
        "# Model Creation and Compilation"
      ]
    },
    {
      "cell_type": "markdown",
      "metadata": {
        "id": "zCg6Nejf3R_N"
      },
      "source": [
        "## Creating a simple RESNET model"
      ]
    },
    {
      "cell_type": "markdown",
      "metadata": {
        "id": "yn2IPpgE3pUT"
      },
      "source": [
        "**RESNET** \n",
        "\n",
        "\n",
        "*   Increasing network depth can lead to worst performance - Vanishing Gradient\n",
        "*   Certain activation functions, like the sigmoid function, squishes a large input space into a small input space between 0 and 1. Therefore, a large change in the input of the sigmoid function will cause a small change in the output.\n",
        "*   ResNet makes it possible to train up to hundreds or even thousands of layers and still achieves compelling performance\n",
        "*   ResNet performs Identity shortcut connection - that skips one or more layers\n",
        "\n",
        "\n",
        "\n",
        "\n",
        ". "
      ]
    },
    {
      "cell_type": "markdown",
      "metadata": {
        "id": "_6BGBS86B-Py"
      },
      "source": [
        "**LAYERS**"
      ]
    },
    {
      "cell_type": "markdown",
      "metadata": {
        "id": "jEKbean-8u1R"
      },
      "source": [
        "**Conv2D** ==> Spatial convolution over images. Creates a convolution kernel that is convolved with the layer input to produce a tensor of outputs"
      ]
    },
    {
      "cell_type": "markdown",
      "metadata": {
        "id": "QYASrDIo9bSJ"
      },
      "source": [
        "**Batch Normalization** ==> A technique to standardize the inputs to a network, applied to ether the activations of a prior layer or inputs directly. It accelerates training, in some cases by halving the epochs or better, and provides some regularization, reducing generalization error"
      ]
    },
    {
      "cell_type": "markdown",
      "metadata": {
        "id": "cOzazXid9z64"
      },
      "source": [
        "**ReLu** ==> A piecewise linear function that will output the input directly if it .is positive, otherwise, it will output zero. It overcomes the vanishing gradient problem, allowing models to learn faster and perform better. "
      ]
    },
    {
      "cell_type": "markdown",
      "metadata": {
        "id": "NLT06ztU-V3i"
      },
      "source": [
        "**Dropout** ==> A single model can be used to simulate having a large number of different network architectures by randomly dropping out nodes during training. Reduce Overfitting. Removes large weights."
      ]
    },
    {
      "cell_type": "markdown",
      "metadata": {
        "id": "Af8W0bxHFkBV"
      },
      "source": [
        "**Add** ==> Takes as input a list of tensors, all of the same shape, and returns a single tensor (also of the same shape)."
      ]
    },
    {
      "cell_type": "markdown",
      "source": [
        "**Pooling** ==> Required to down sample the detection of features in feature maps. \n",
        "2 Functions: Avg Pooling & Max Pooling\n",
        "\n",
        "*   Avg Pooling (Calculate the average value for each patch on the feature map)\n",
        "*   Max Pooling (Calculate the maximum value for each patch of the feature map)\n"
      ],
      "metadata": {
        "id": "Gn8hBsdQTErj"
      }
    },
    {
      "cell_type": "markdown",
      "source": [
        "**Dense** ==> A layer that is deeply connected with its preceding layer which means the neurons of the layer are connected to every neuron of its preceding layer"
      ],
      "metadata": {
        "id": "bTZ_JQ0ZWISb"
      }
    },
    {
      "cell_type": "markdown",
      "source": [
        "**Other Definitions**"
      ],
      "metadata": {
        "id": "KpPFYGunS4Ay"
      }
    },
    {
      "cell_type": "markdown",
      "metadata": {
        "id": "pFyv4Mj__IMc"
      },
      "source": [
        "**Strides** ==> A component of convolutional neural networks, or neural networks tuned for the compression of images and video data. A parameter of the neural . network's filter that modifies the amount of movement over the image or video.  If a neural network's stride is set to 1, the filter will move one pixel, or unit,  at a time"
      ]
    },
    {
      "cell_type": "markdown",
      "metadata": {
        "id": "94SdV2bHASxt"
      },
      "source": [
        "**Channel** => A color image can be represented as a matrix of dimensions *w×h×c*, where c is the number of channels, that is, 3 (RGB). In a grayscale image, the data is a matrix of dimensions  *w×h*"
      ]
    },
    {
      "cell_type": "markdown",
      "metadata": {
        "id": "2_-P2XofBKMG"
      },
      "source": [
        "**Momentum** ==> When the gradient keeps pointing in the same direction, this will increase the size of the steps taken towards the minimum. It is otherefore often necessary to reduce the global learning rate µ when using a lot of momentum (m close to 1). Method which helps accelerate gradients vectors in the right directions. "
      ]
    },
    {
      "cell_type": "code",
      "execution_count": null,
      "metadata": {
        "id": "-AayVqGs0VcJ"
      },
      "outputs": [],
      "source": [
        "def residual_block(input, channels, momentum, strides=1):\n",
        "    block = layers.Conv2D(channels * strides, 3, padding=\"same\", strides=strides)(input)\n",
        "    block = layers.BatchNormalization(momentum=momentum)(block)\n",
        "    block = layers.ReLU()(block)\n",
        "    block = layers.Dropout(0.2)(block)\n",
        "    block = layers.Conv2D(channels * strides, 3, padding=\"same\")(block)\n",
        "    block = layers.ReLU()(block)\n",
        "    block = layers.BatchNormalization(momentum=momentum)(block)\n",
        "\n",
        "    if strides > 1:\n",
        "        connection = layers.Conv2D(\n",
        "            channels * strides, 1, strides=strides, padding=\"same\"\n",
        "        )(input)\n",
        "        connection = layers.BatchNormalization(momentum=momentum)(connection)\n",
        "    else:\n",
        "        connection = input\n",
        "\n",
        "    output = tf.keras.layers.Add()([block, connection])\n",
        "\n",
        "    return output"
      ]
    },
    {
      "cell_type": "code",
      "execution_count": null,
      "metadata": {
        "id": "WuVzPC63VsPw"
      },
      "outputs": [],
      "source": [
        "def create_model(blocks=[1, 2], init_channels=16, momentum=0.99):\n",
        "    input = layers.Input((None, None, 3))\n",
        "\n",
        "    first = layers.Conv2D(init_channels, 7, padding=\"same\")(input)\n",
        "    hidden = layers.MaxPool2D()(first)\n",
        "\n",
        "    channels = init_channels\n",
        "    for strides in blocks:\n",
        "        hidden = residual_block(hidden, channels, momentum, strides=strides)\n",
        "        channels = strides * channels\n",
        "\n",
        "    last = layers.GlobalAvgPool2D()(hidden)\n",
        "    last = layers.Dense(512, activation=\"relu\")(last)\n",
        "    output = layers.Dense(len(CLASS_LABELS), activation=\"softmax\")(last)\n",
        "\n",
        "    return tf.keras.Model(inputs=[input], outputs=[output])"
      ]
    },
    {
      "cell_type": "markdown",
      "source": [
        "Input Layer >> Convolution Layer >> MaxPooling Layer >> Residual Block1 (Conv, BatchNorm, ReLu, Dropout, Conv, ReLu, BatchNorm, Add) >> Residual Block2 (Conv, BatchNorm, ReLu, Dropout, Conv, ReLu, BatchNorm, Conv, BatchNorm, Add) >> Global Average Pooling >> Dense >> Dense "
      ],
      "metadata": {
        "id": "gZA2WOIrleVc"
      }
    },
    {
      "cell_type": "code",
      "execution_count": null,
      "metadata": {
        "id": "BG94mdoh4q_-"
      },
      "outputs": [],
      "source": [
        "baseline_model = create_model(blocks=[1, 2])"
      ]
    },
    {
      "cell_type": "markdown",
      "source": [
        "The baseline model has two blocks, the first with 16 channels and the second with 32."
      ],
      "metadata": {
        "id": "SK0zkUIHjVBJ"
      }
    },
    {
      "cell_type": "markdown",
      "source": [
        "The model contains a configurable number of blocks that are each made from two CNN layers with 3 x 3 kernels followed by a batch normalisation layer."
      ],
      "metadata": {
        "id": "qtP1Mdt_gXXC"
      }
    },
    {
      "cell_type": "markdown",
      "source": [
        "For added regularization I apply a 20% dropout between the two CNN layers."
      ],
      "metadata": {
        "id": "RwRD9C-Dgar9"
      }
    },
    {
      "cell_type": "markdown",
      "source": [
        "The blocks are connected sequentially, and there are residual connections between their connection points."
      ],
      "metadata": {
        "id": "4LVkoxpEgc7a"
      }
    },
    {
      "cell_type": "code",
      "execution_count": null,
      "metadata": {
        "colab": {
          "base_uri": "https://localhost:8080/"
        },
        "id": "iUlkC-gtDgud",
        "outputId": "b937fdce-0296-447b-fc48-f0b460bb668b"
      },
      "outputs": [
        {
          "output_type": "stream",
          "name": "stdout",
          "text": [
            "Model: \"model\"\n",
            "__________________________________________________________________________________________________\n",
            " Layer (type)                   Output Shape         Param #     Connected to                     \n",
            "==================================================================================================\n",
            " input_1 (InputLayer)           [(None, None, None,  0           []                               \n",
            "                                 3)]                                                              \n",
            "                                                                                                  \n",
            " conv2d (Conv2D)                (None, None, None,   2368        ['input_1[0][0]']                \n",
            "                                16)                                                               \n",
            "                                                                                                  \n",
            " max_pooling2d (MaxPooling2D)   (None, None, None,   0           ['conv2d[0][0]']                 \n",
            "                                16)                                                               \n",
            "                                                                                                  \n",
            " conv2d_1 (Conv2D)              (None, None, None,   2320        ['max_pooling2d[0][0]']          \n",
            "                                16)                                                               \n",
            "                                                                                                  \n",
            " batch_normalization (BatchNorm  (None, None, None,   64         ['conv2d_1[0][0]']               \n",
            " alization)                     16)                                                               \n",
            "                                                                                                  \n",
            " re_lu (ReLU)                   (None, None, None,   0           ['batch_normalization[0][0]']    \n",
            "                                16)                                                               \n",
            "                                                                                                  \n",
            " dropout (Dropout)              (None, None, None,   0           ['re_lu[0][0]']                  \n",
            "                                16)                                                               \n",
            "                                                                                                  \n",
            " conv2d_2 (Conv2D)              (None, None, None,   2320        ['dropout[0][0]']                \n",
            "                                16)                                                               \n",
            "                                                                                                  \n",
            " re_lu_1 (ReLU)                 (None, None, None,   0           ['conv2d_2[0][0]']               \n",
            "                                16)                                                               \n",
            "                                                                                                  \n",
            " batch_normalization_1 (BatchNo  (None, None, None,   64         ['re_lu_1[0][0]']                \n",
            " rmalization)                   16)                                                               \n",
            "                                                                                                  \n",
            " add (Add)                      (None, None, None,   0           ['batch_normalization_1[0][0]',  \n",
            "                                16)                               'max_pooling2d[0][0]']          \n",
            "                                                                                                  \n",
            " conv2d_3 (Conv2D)              (None, None, None,   4640        ['add[0][0]']                    \n",
            "                                32)                                                               \n",
            "                                                                                                  \n",
            " batch_normalization_2 (BatchNo  (None, None, None,   128        ['conv2d_3[0][0]']               \n",
            " rmalization)                   32)                                                               \n",
            "                                                                                                  \n",
            " re_lu_2 (ReLU)                 (None, None, None,   0           ['batch_normalization_2[0][0]']  \n",
            "                                32)                                                               \n",
            "                                                                                                  \n",
            " dropout_1 (Dropout)            (None, None, None,   0           ['re_lu_2[0][0]']                \n",
            "                                32)                                                               \n",
            "                                                                                                  \n",
            " conv2d_4 (Conv2D)              (None, None, None,   9248        ['dropout_1[0][0]']              \n",
            "                                32)                                                               \n",
            "                                                                                                  \n",
            " re_lu_3 (ReLU)                 (None, None, None,   0           ['conv2d_4[0][0]']               \n",
            "                                32)                                                               \n",
            "                                                                                                  \n",
            " conv2d_5 (Conv2D)              (None, None, None,   544         ['add[0][0]']                    \n",
            "                                32)                                                               \n",
            "                                                                                                  \n",
            " batch_normalization_3 (BatchNo  (None, None, None,   128        ['re_lu_3[0][0]']                \n",
            " rmalization)                   32)                                                               \n",
            "                                                                                                  \n",
            " batch_normalization_4 (BatchNo  (None, None, None,   128        ['conv2d_5[0][0]']               \n",
            " rmalization)                   32)                                                               \n",
            "                                                                                                  \n",
            " add_1 (Add)                    (None, None, None,   0           ['batch_normalization_3[0][0]',  \n",
            "                                32)                               'batch_normalization_4[0][0]']  \n",
            "                                                                                                  \n",
            " global_average_pooling2d (Glob  (None, 32)          0           ['add_1[0][0]']                  \n",
            " alAveragePooling2D)                                                                              \n",
            "                                                                                                  \n",
            " dense (Dense)                  (None, 512)          16896       ['global_average_pooling2d[0][0]'\n",
            "                                                                 ]                                \n",
            "                                                                                                  \n",
            " dense_1 (Dense)                (None, 5)            2565        ['dense[0][0]']                  \n",
            "                                                                                                  \n",
            "==================================================================================================\n",
            "Total params: 41,413\n",
            "Trainable params: 41,157\n",
            "Non-trainable params: 256\n",
            "__________________________________________________________________________________________________\n"
          ]
        }
      ],
      "source": [
        "baseline_model.summary()"
      ]
    },
    {
      "cell_type": "markdown",
      "source": [
        "**Exponential Decay** ==> Lower the learning rate as the training progresses. large learning rate allows the model to learn faster, at the cost of arriving on a sub-optimal final set of weights. A smaller learning rate may allow the model to learn a more optimal or even globally optimal set of weights."
      ],
      "metadata": {
        "id": "HlMee4omZ_I8"
      }
    },
    {
      "cell_type": "markdown",
      "source": [
        "**Sparse Categorical Cross Entropy** ==> crossentropy loss function when there are two or more label classes. "
      ],
      "metadata": {
        "id": "_xMDDFvaaqaU"
      }
    },
    {
      "cell_type": "code",
      "execution_count": null,
      "metadata": {
        "id": "9d2m7Q3uVz4V"
      },
      "outputs": [],
      "source": [
        "def compile_model(model, train_dataset, batch_size=32, lr_final=0.001, lr_init=0.01):\n",
        "    steps = int(tf.data.experimental.cardinality(train_dataset).numpy() / batch_size)\n",
        "    decay_factor = (lr_final / lr_init) ** (1 / steps)\n",
        "\n",
        "    lr_schedule = tf.keras.optimizers.schedules.ExponentialDecay(\n",
        "        initial_learning_rate=lr_init,\n",
        "        decay_steps=steps,\n",
        "        decay_rate=decay_factor,\n",
        "        staircase=True,\n",
        "    )\n",
        "\n",
        "    model.compile(\n",
        "        optimizer=tf.keras.optimizers.Adam(learning_rate=lr_schedule),\n",
        "        loss=tf.keras.losses.SparseCategoricalCrossentropy(),\n",
        "        metrics=[tf.keras.metrics.SparseCategoricalAccuracy()],\n",
        "    )"
      ]
    },
    {
      "cell_type": "code",
      "execution_count": null,
      "metadata": {
        "id": "J70ktnKXEMVt"
      },
      "outputs": [],
      "source": [
        "compile_model(baseline_model, baseline_train)"
      ]
    },
    {
      "cell_type": "markdown",
      "metadata": {
        "id": "G92wVFuTsgjS"
      },
      "source": [
        "# Training"
      ]
    },
    {
      "cell_type": "markdown",
      "source": [
        "Custom Fit Function:\n",
        "\n",
        "\n",
        "*   **Print** log for every n-th epoch\n",
        "*   **Model Checkpoint** ==> save the model after training\n",
        "*   **Early Stopping** ==> Stop the training if validation loss hasn't changed for a long time\n",
        "\n",
        "\n"
      ],
      "metadata": {
        "id": "uqfdLXHjgv56"
      }
    },
    {
      "cell_type": "code",
      "execution_count": null,
      "metadata": {
        "id": "gNfx0SVOV22n"
      },
      "outputs": [],
      "source": [
        "class Print(tf.keras.callbacks.Callback):\n",
        "    log_each = 10\n",
        "    epoch = 0\n",
        "\n",
        "    def __init__(self, log_each):\n",
        "        self.log_each = log_each\n",
        "\n",
        "    def on_epoch_begin(self, epoch, logs=None):\n",
        "        self.epoch = epoch\n",
        "\n",
        "    def on_epoch_end(self, epoch, logs=None):\n",
        "        if self.epoch % self.log_each == 0:\n",
        "            print(\n",
        "                \"Epoch: {}, loss: {}, acc: {}, val loss: {}, val accuracy: {}\".format(\n",
        "                    self.epoch,\n",
        "                    logs[\"loss\"],\n",
        "                    logs[\"sparse_categorical_accuracy\"],\n",
        "                    logs[\"val_loss\"],\n",
        "                    logs[\"val_sparse_categorical_accuracy\"],\n",
        "                )\n",
        "            )\n",
        "\n",
        "\n",
        "def fit_model(\n",
        "    model,\n",
        "    train_dataset,\n",
        "    val_dataset,\n",
        "    model_name,\n",
        "    early_stop,\n",
        "    batch_size=32,\n",
        "    epochs=50,\n",
        "    log_each=10,\n",
        "    shuffle=True,\n",
        "):\n",
        "\n",
        "    checkpoint = tf.keras.callbacks.ModelCheckpoint(\n",
        "        filepath=f\"models/{model_name}.hdf5\",\n",
        "        save_best_only=True,\n",
        "        save_weights_only=False,\n",
        "    )\n",
        "\n",
        "    callbacks = [Print(log_each=log_each), checkpoint]\n",
        "\n",
        "    if early_stop is not None:\n",
        "        early_stop = tf.keras.callbacks.EarlyStopping(\n",
        "            monitor=\"val_sparse_categorical_accuracy\",\n",
        "            patience=early_stop,\n",
        "            verbose=1,\n",
        "            mode=\"min\",\n",
        "            restore_best_weights=True,\n",
        "        )\n",
        "        callbacks.append(early_stop)\n",
        "\n",
        "    return model.fit(\n",
        "        (train_dataset.shuffle(5000) if shuffle else train_dataset)\n",
        "        .batch(batch_size)\n",
        "        .prefetch(tf.data.AUTOTUNE),\n",
        "        validation_data=val_dataset.batch(batch_size).prefetch(tf.data.AUTOTUNE),\n",
        "        epochs=epochs,\n",
        "        callbacks=callbacks,\n",
        "        verbose=0,\n",
        "    )"
      ]
    },
    {
      "cell_type": "code",
      "execution_count": null,
      "metadata": {
        "colab": {
          "base_uri": "https://localhost:8080/"
        },
        "id": "zijw-LnwWJNE",
        "outputId": "e48c0fed-0d8b-429e-ec87-c60a8cbb56ad"
      },
      "outputs": [
        {
          "output_type": "stream",
          "name": "stdout",
          "text": [
            "Epoch: 0, loss: 1.299208641052246, acc: 0.4821428656578064, val loss: 114.62201690673828, val accuracy: 0.24561403691768646\n",
            "Epoch: 10, loss: 0.7995877265930176, acc: 0.65625, val loss: 4.06764030456543, val accuracy: 0.5964912176132202\n",
            "Epoch: 20, loss: 0.751438558101654, acc: 0.6785714030265808, val loss: 1.7134718894958496, val accuracy: 0.5964912176132202\n",
            "Epoch: 30, loss: 0.7576829195022583, acc: 0.6741071343421936, val loss: 1.0911535024642944, val accuracy: 0.6315789222717285\n",
            "Epoch: 40, loss: 0.7460041046142578, acc: 0.6741071343421936, val loss: 0.9315221905708313, val accuracy: 0.6491228342056274\n"
          ]
        }
      ],
      "source": [
        "baseline_history = fit_model(\n",
        "    baseline_model,\n",
        "    train_dataset=baseline_train,\n",
        "    val_dataset=baseline_val,\n",
        "    epochs=50,\n",
        "    log_each=10,\n",
        "    model_name=\"baseline\",\n",
        "    early_stop=None\n",
        ")"
      ]
    },
    {
      "cell_type": "markdown",
      "metadata": {
        "id": "KEFhu_3csle7"
      },
      "source": [
        "# Evaluation"
      ]
    },
    {
      "cell_type": "code",
      "execution_count": null,
      "metadata": {
        "id": "6fvRK7osV-43"
      },
      "outputs": [],
      "source": [
        "from sklearn.metrics import ConfusionMatrixDisplay, confusion_matrix\n",
        "\n",
        "\n",
        "def evaluate_model(model, history, test_dataset):\n",
        "    acc = history.history[\"sparse_categorical_accuracy\"]\n",
        "    val_acc = history.history[\"val_sparse_categorical_accuracy\"]\n",
        "    loss = history.history[\"loss\"]\n",
        "    val_loss = history.history[\"val_loss\"]\n",
        "\n",
        "    x = range(len(acc))\n",
        "    _, ((ax, ax2), (ax3, ax4)) = plt.subplots(figsize=(12, 12), ncols=2, nrows=2)\n",
        "\n",
        "    ax.plot(x, acc, label=\"Training Accuracy\")\n",
        "    ax.plot(x, val_acc, label=\"Validation Accuracy\")\n",
        "    ax.legend(loc=\"lower right\")\n",
        "    ax.set_title(\"Training and Validation Accuracy\")\n",
        "\n",
        "    ax2.plot(x, loss, label=\"Training Loss\")\n",
        "    ax2.plot(x, val_loss, label=\"Validation Loss\")\n",
        "    ax2.legend(loc=\"upper right\")\n",
        "    ax2.set_title(\"Training and Validation Loss\")\n",
        "\n",
        "    y_pred = np.argmax(\n",
        "        model.predict(test_dataset.batch(16).prefetch(tf.data.AUTOTUNE)), axis=1\n",
        "    )\n",
        "    y_true = np.array(tuple(zip(*test_dataset))[1])\n",
        "    cm = confusion_matrix(y_true=y_true, y_pred=y_pred)\n",
        "    cmd = ConfusionMatrixDisplay(cm)\n",
        "    cmd.plot(\n",
        "        ax=ax3,\n",
        "        cmap=plt.cm.Blues,\n",
        "        xticks_rotation=\"vertical\",\n",
        "    )\n",
        "    ax3.set_xticklabels(CLASS_LABELS)\n",
        "    ax3.set_yticklabels(CLASS_LABELS)\n",
        "    ax3.set_title(\"Confusion Matrix on Test Set\")"
      ]
    },
    {
      "cell_type": "code",
      "execution_count": null,
      "metadata": {
        "id": "lFPGb-06WS9r",
        "colab": {
          "base_uri": "https://localhost:8080/",
          "height": 757
        },
        "outputId": "cb5ecf65-98b6-4537-f491-4162df2ac4aa"
      },
      "outputs": [
        {
          "output_type": "display_data",
          "data": {
            "image/png": "[encoded data removed]",
            "text/plain": [
              "<Figure size 864x864 with 5 Axes>"
            ]
          },
          "metadata": {
            "needs_background": "light"
          }
        }
      ],
      "source": [
        "baseline_model.load_weights(f\"models/baseline.hdf5\")\n",
        "evaluate_model(baseline_model, baseline_history, baseline_test)"
      ]
    },
    {
      "cell_type": "markdown",
      "source": [
        "Almost every cell is labelled as a neutrophil as the dataset is imbalanced"
      ],
      "metadata": {
        "id": "3By9v_xRjheg"
      }
    },
    {
      "cell_type": "markdown",
      "metadata": {
        "id": "VGlc7gaesz1n"
      },
      "source": [
        "# Balancing the Dataset"
      ]
    },
    {
      "cell_type": "code",
      "execution_count": null,
      "metadata": {
        "id": "tZlO3cw6bTTT"
      },
      "outputs": [],
      "source": [
        "import random\n",
        "\n",
        "def balance_dataset(dataset, ratio):\n",
        "    data, targets = [np.array(a) for a in zip(*dataset)]\n",
        "    class_count = [np.count_nonzero(targets == l) for l in range(len(CLASS_LABELS))]\n",
        "    largest = np.max(class_count)\n",
        "\n",
        "    indices = []\n",
        "    for l, count in zip(range(len(CLASS_LABELS)), class_count):\n",
        "        class_indices = np.where(targets == l)[0]\n",
        "        indices += list(\n",
        "            random.choices(class_indices, k=int(np.round(largest * ratio)))\n",
        "            if count < largest * ratio\n",
        "            else class_indices\n",
        "        )\n",
        "\n",
        "    return tf.data.Dataset.from_tensor_slices(\n",
        "        (\n",
        "            data[indices],\n",
        "            targets[indices],\n",
        "        )\n",
        "    )"
      ]
    },
    {
      "cell_type": "markdown",
      "source": [
        "Dataset is balanced by oversampling of underrepresented classes."
      ],
      "metadata": {
        "id": "Mvb8793ZjwGK"
      }
    },
    {
      "cell_type": "markdown",
      "metadata": {
        "id": "avnqKuCQs4ZO"
      },
      "source": [
        "# Creating a New Model"
      ]
    },
    {
      "cell_type": "code",
      "execution_count": null,
      "metadata": {
        "id": "88On2eRv__CD"
      },
      "outputs": [],
      "source": [
        "balanced_model = create_model(blocks=[1, 2])\n",
        "balanced_train = balance_dataset(baseline_train, ratio=1)\n",
        "compile_model(balanced_model, balanced_train)"
      ]
    },
    {
      "cell_type": "markdown",
      "metadata": {
        "id": "8aTNtdnLs8JI"
      },
      "source": [
        "# Training the New Model"
      ]
    },
    {
      "cell_type": "code",
      "execution_count": null,
      "metadata": {
        "id": "KEYzMORnbjo-",
        "colab": {
          "base_uri": "https://localhost:8080/"
        },
        "outputId": "6c544c17-8237-430b-81b5-c79e3126cb2f"
      },
      "outputs": [
        {
          "output_type": "stream",
          "name": "stdout",
          "text": [
            "Epoch: 0, loss: 1.2517143487930298, acc: 0.4824427366256714, val loss: 1349.6419677734375, val accuracy: 0.017543859779834747\n",
            "Epoch: 10, loss: 0.3258577287197113, acc: 0.8900763392448425, val loss: 35.60919189453125, val accuracy: 0.017543859779834747\n",
            "Epoch: 20, loss: 0.11937132477760315, acc: 0.9664121866226196, val loss: 3.567796230316162, val accuracy: 0.2982456088066101\n",
            "Epoch: 30, loss: 0.07798855751752853, acc: 0.9832060933113098, val loss: 1.9632951021194458, val accuracy: 0.5438596606254578\n",
            "Epoch: 40, loss: 0.09187103807926178, acc: 0.9770992398262024, val loss: 0.9431062936782837, val accuracy: 0.7368420958518982\n"
          ]
        }
      ],
      "source": [
        "balanced_history = fit_model(\n",
        "    balanced_model,\n",
        "    train_dataset=balanced_train,\n",
        "    val_dataset=baseline_val,\n",
        "    epochs=50,\n",
        "    log_each=10,\n",
        "    model_name=\"balanced\",\n",
        "    early_stop=None\n",
        ")"
      ]
    },
    {
      "cell_type": "markdown",
      "metadata": {
        "id": "5tQEFIyBtK3E"
      },
      "source": [
        "# Evaluating the New Model"
      ]
    },
    {
      "cell_type": "code",
      "execution_count": null,
      "metadata": {
        "id": "3lvQ8-6nBaFS",
        "colab": {
          "base_uri": "https://localhost:8080/",
          "height": 757
        },
        "outputId": "63e1a6a4-b468-4354-db8e-39bb01d2aa1d"
      },
      "outputs": [
        {
          "output_type": "display_data",
          "data": {
            "image/png": "[encoded data removed]",
            "text/plain": [
              "<Figure size 864x864 with 5 Axes>"
            ]
          },
          "metadata": {
            "needs_background": "light"
          }
        }
      ],
      "source": [
        "evaluate_model(balanced_model, balanced_history, baseline_test)"
      ]
    },
    {
      "cell_type": "code",
      "source": [
        "evaluate_model(baseline_model, baseline_history, baseline_test)"
      ],
      "metadata": {
        "colab": {
          "base_uri": "https://localhost:8080/",
          "height": 757
        },
        "id": "J5c1G9hc0Do7",
        "outputId": "f09b314a-999a-4c0b-973a-8a98ecb95a1b"
      },
      "execution_count": null,
      "outputs": [
        {
          "output_type": "display_data",
          "data": {
            "image/png": "[encoded data removed]",
            "text/plain": [
              "<Figure size 864x864 with 5 Axes>"
            ]
          },
          "metadata": {
            "needs_background": "light"
          }
        }
      ]
    },
    {
      "cell_type": "code",
      "source": [
        ""
      ],
      "metadata": {
        "id": "Gugl-Bea0EBB"
      },
      "execution_count": null,
      "outputs": []
    }
  ],
  "metadata": {
    "colab": {
      "collapsed_sections": [],
      "name": "MLiSB2.ipynb",
      "provenance": []
    },
    "kernelspec": {
      "display_name": "Python 3",
      "name": "python3"
    },
    "language_info": {
      "name": "python"
    }
  },
  "nbformat": 4,
  "nbformat_minor": 0
}