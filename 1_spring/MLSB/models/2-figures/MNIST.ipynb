{
  "nbformat": 4,
  "nbformat_minor": 0,
  "metadata": {
    "colab": {
      "name": "MNIST.ipynb",
      "provenance": []
    },
    "kernelspec": {
      "name": "python3",
      "display_name": "Python 3"
    },
    "language_info": {
      "name": "python"
    }
  },
  "cells": [
    {
      "cell_type": "code",
      "metadata": {
        "colab": {
          "base_uri": "https://localhost:8080/"
        },
        "id": "5rS3nYXLoaFR",
        "outputId": "89fc7e67-ebe5-49ab-e433-f107ff77902c"
      },
      "source": [
        "!pip3 install torch torchvision"
      ],
      "execution_count": 1,
      "outputs": [
        {
          "output_type": "stream",
          "name": "stdout",
          "text": [
            "Requirement already satisfied: torch in /usr/local/lib/python3.7/dist-packages (1.10.0+cu111)\n",
            "Requirement already satisfied: torchvision in /usr/local/lib/python3.7/dist-packages (0.11.1+cu111)\n",
            "Requirement already satisfied: typing-extensions in /usr/local/lib/python3.7/dist-packages (from torch) (3.10.0.2)\n",
            "Requirement already satisfied: pillow!=8.3.0,>=5.3.0 in /usr/local/lib/python3.7/dist-packages (from torchvision) (7.1.2)\n",
            "Requirement already satisfied: numpy in /usr/local/lib/python3.7/dist-packages (from torchvision) (1.21.5)\n"
          ]
        }
      ]
    },
    {
      "cell_type": "code",
      "metadata": {
        "id": "aLdzz5aSomIs"
      },
      "source": [
        "import torch\n",
        "from torchvision import datasets, transforms"
      ],
      "execution_count": 2,
      "outputs": []
    },
    {
      "cell_type": "code",
      "metadata": {
        "id": "tBmPgpHJozGq"
      },
      "source": [
        "import matplotlib.pyplot as plt\n",
        "import numpy as np\n"
      ],
      "execution_count": 3,
      "outputs": []
    },
    {
      "cell_type": "code",
      "metadata": {
        "colab": {
          "base_uri": "https://localhost:8080/"
        },
        "id": "G-S_M0FUqdVB",
        "outputId": "3bab4f0c-882b-4ffa-f4cf-f5beed2099f6"
      },
      "source": [
        "!wget www.di.ens.fr/~lelarge/MNIST.tar.gz\n",
        "!tar -zxvf MNIST.tar.gz"
      ],
      "execution_count": 4,
      "outputs": [
        {
          "output_type": "stream",
          "name": "stdout",
          "text": [
            "--2022-02-19 22:18:52--  http://www.di.ens.fr/~lelarge/MNIST.tar.gz\n",
            "Resolving www.di.ens.fr (www.di.ens.fr)... 129.199.99.14\n",
            "Connecting to www.di.ens.fr (www.di.ens.fr)|129.199.99.14|:80... connected.\n",
            "HTTP request sent, awaiting response... 302 Found\n",
            "Location: https://www.di.ens.fr/~lelarge/MNIST.tar.gz [following]\n",
            "--2022-02-19 22:18:53--  https://www.di.ens.fr/~lelarge/MNIST.tar.gz\n",
            "Connecting to www.di.ens.fr (www.di.ens.fr)|129.199.99.14|:443... connected.\n",
            "HTTP request sent, awaiting response... 200 OK\n",
            "Length: unspecified [application/x-gzip]\n",
            "Saving to: ‘MNIST.tar.gz’\n",
            "\n",
            "MNIST.tar.gz            [             <=>    ]  33.20M  11.8MB/s    in 2.8s    \n",
            "\n",
            "2022-02-19 22:18:56 (11.8 MB/s) - ‘MNIST.tar.gz’ saved [34813078]\n",
            "\n",
            "MNIST/\n",
            "MNIST/raw/\n",
            "MNIST/raw/train-labels-idx1-ubyte\n",
            "MNIST/raw/t10k-labels-idx1-ubyte.gz\n",
            "MNIST/raw/t10k-labels-idx1-ubyte\n",
            "MNIST/raw/t10k-images-idx3-ubyte.gz\n",
            "MNIST/raw/train-images-idx3-ubyte\n",
            "MNIST/raw/train-labels-idx1-ubyte.gz\n",
            "MNIST/raw/t10k-images-idx3-ubyte\n",
            "MNIST/raw/train-images-idx3-ubyte.gz\n",
            "MNIST/processed/\n",
            "MNIST/processed/training.pt\n",
            "MNIST/processed/test.pt\n"
          ]
        }
      ]
    },
    {
      "cell_type": "code",
      "metadata": {
        "id": "jx8MP7NKo_hS"
      },
      "source": [
        "from torchvision.datasets import MNIST\n",
        "from torchvision import transforms\n",
        "\n",
        "transforms = transforms.Compose([\n",
        "                                 transforms.ToTensor(),\n",
        "                                 transforms.Normalize((0.5,),(0.5,))\n",
        "                                 ])\n",
        "\n",
        "train_set = MNIST('./', download=True, transform = transforms, train=True)\n",
        "\n",
        "training_loader = torch.utils.data.DataLoader(dataset=train_set, batch_size=100, shuffle=True)"
      ],
      "execution_count": 5,
      "outputs": []
    },
    {
      "cell_type": "code",
      "metadata": {
        "id": "DhMM8hhlrTIu"
      },
      "source": [
        "def im_convert(tensor):\n",
        "  image = tensor.clone().detach().numpy()\n",
        "  print(image.shape)\n",
        "\n",
        "  image = image.transpose(1, 2, 0)\n",
        "  print(image.shape)\n",
        "  image = image * np.array((0.5,)) + np.array((0.5,))\n",
        "  image = image.clip(0, 1)[:,:,0]\n",
        "\n",
        "  return image"
      ],
      "execution_count": 6,
      "outputs": []
    },
    {
      "cell_type": "code",
      "metadata": {
        "colab": {
          "base_uri": "https://localhost:8080/",
          "height": 306
        },
        "id": "1Rj7fjP0sWUb",
        "outputId": "993bb472-9ce0-423b-c9a8-dfe7812a6d7c"
      },
      "source": [
        "dataiter = iter(training_loader)\n",
        "images, labels = dataiter.next()\n",
        "fig = plt.figure(figsize=(25,4))\n",
        "\n",
        "for idx in np.arange(4):\n",
        "  ax = fig.add_subplot(2, 10, idx+1)\n",
        "  plt.imshow(im_convert(images[idx]))\n",
        "\n",
        "  ax.set_title([labels[idx].item()])"
      ],
      "execution_count": 7,
      "outputs": [
        {
          "output_type": "stream",
          "name": "stdout",
          "text": [
            "(1, 28, 28)\n",
            "(28, 28, 1)\n",
            "(1, 28, 28)\n",
            "(28, 28, 1)\n",
            "(1, 28, 28)\n",
            "(28, 28, 1)\n",
            "(1, 28, 28)\n",
            "(28, 28, 1)\n"
          ]
        },
        {
          "output_type": "display_data",
          "data": {
            "image/png": "[encoded data removed]",
            "text/plain": [
              "<Figure size 1800x288 with 4 Axes>"
            ]
          },
          "metadata": {
            "needs_background": "light"
          }
        }
      ]
    },
    {
      "cell_type": "code",
      "metadata": {
        "id": "NQTO7EMowb_b"
      },
      "source": [
        "from torch import nn\n",
        "import torch.nn.functional as F\n",
        "\n",
        "class Classifier(nn.Module):\n",
        "  def __init__(self, D_in, H1, H2, D_out):\n",
        "    super().__init__()\n",
        "    self.linear1 = nn.Linear(D_in, H1)\n",
        "    self.linear2 = nn.Linear(H1, H2)\n",
        "    self.linear3 = nn.Linear(H2, D_out)\n",
        "\n",
        "  def forward(self, x):\n",
        "    # 784 -> 128\n",
        "    x = self.linear1(x)\n",
        "    x = F.relu(x)\n",
        "    # 128 -> 64 \n",
        "    x = self.linear2(x)\n",
        "    x = F.relu(x)\n",
        "    # 64 -> 10\n",
        "    x = self.linear3(x)\n",
        "\n",
        "    return x"
      ],
      "execution_count": 8,
      "outputs": []
    },
    {
      "cell_type": "code",
      "metadata": {
        "colab": {
          "base_uri": "https://localhost:8080/"
        },
        "id": "qogH6UkpyLRg",
        "outputId": "d69893e3-c6c5-4c2e-ffc0-3f8e6f2ef4d4"
      },
      "source": [
        "model = Classifier(D_in=784, H1=128, H2=64, D_out=10)\n",
        "model"
      ],
      "execution_count": 9,
      "outputs": [
        {
          "output_type": "execute_result",
          "data": {
            "text/plain": [
              "Classifier(\n",
              "  (linear1): Linear(in_features=784, out_features=128, bias=True)\n",
              "  (linear2): Linear(in_features=128, out_features=64, bias=True)\n",
              "  (linear3): Linear(in_features=64, out_features=10, bias=True)\n",
              ")"
            ]
          },
          "metadata": {},
          "execution_count": 9
        }
      ]
    },
    {
      "cell_type": "code",
      "metadata": {
        "id": "05wB5UreykpG"
      },
      "source": [
        "criterion = nn.CrossEntropyLoss()\n",
        "optimizer = torch.optim.Adam(model.parameters(), lr=0.01)"
      ],
      "execution_count": 10,
      "outputs": []
    },
    {
      "cell_type": "code",
      "metadata": {
        "colab": {
          "base_uri": "https://localhost:8080/"
        },
        "id": "Z7OrGiMXy7Jz",
        "outputId": "8cdf8df5-c70a-43ed-b7bd-8ff1990a5919"
      },
      "source": [
        "epochs = 12\n",
        "\n",
        "running_loss_history = []\n",
        "running_correct_history = []\n",
        "\n",
        "for e in range(epochs):\n",
        "  running_loss = 0.0\n",
        "  running_correct = 0.0\n",
        "  for inputs, labels in training_loader:\n",
        "    # 28x28 image into 784 values\n",
        "    inputs = inputs.view(inputs.shape[0],-1)\n",
        "    \n",
        "    outputs = model(inputs)\n",
        "    # [10 digits]\n",
        "\n",
        "    loss = criterion(outputs, labels)\n",
        "\n",
        "    optimizer.zero_grad()\n",
        "    loss.backward()\n",
        "\n",
        "    optimizer.step()\n",
        "    # 1,28,28\n",
        "\n",
        "    _, preds = torch.max(outputs, 1)\n",
        "    running_correct+=torch.sum(preds == labels.data)\n",
        "\n",
        "    running_loss += loss\n",
        "  else:\n",
        "    epoch_loss = running_loss/len(training_loader)\n",
        "    epoch_acc = running_correct.float()/len(training_loader)\n",
        "    running_loss_history.append(epoch_loss)\n",
        "    running_correct_history.append(epoch_acc)\n",
        "    print(\"training loss {:.4f}, Accuracy {:.4f}\".format(epoch_loss,epoch_acc))\n",
        "\n"
      ],
      "execution_count": 11,
      "outputs": [
        {
          "output_type": "stream",
          "name": "stdout",
          "text": [
            "training loss 0.3947, Accuracy 87.7133\n",
            "training loss 0.2337, Accuracy 93.0367\n",
            "training loss 0.2133, Accuracy 93.6417\n",
            "training loss 0.2014, Accuracy 94.1017\n",
            "training loss 0.1881, Accuracy 94.5400\n",
            "training loss 0.1921, Accuracy 94.4600\n",
            "training loss 0.1835, Accuracy 94.7767\n",
            "training loss 0.1755, Accuracy 95.0900\n",
            "training loss 0.1776, Accuracy 95.0900\n",
            "training loss 0.1773, Accuracy 95.0250\n",
            "training loss 0.1676, Accuracy 95.4000\n",
            "training loss 0.1693, Accuracy 95.3083\n"
          ]
        }
      ]
    },
    {
      "cell_type": "code",
      "metadata": {
        "id": "I4v1aSHi4Coa",
        "colab": {
          "base_uri": "https://localhost:8080/",
          "height": 283
        },
        "outputId": "25336c2f-225c-49b6-c2c8-7ef17e136bbf"
      },
      "source": [
        "lss = [loss.detach() for loss in running_loss_history]\n",
        "plt.plot(lss, label='training_loss')"
      ],
      "execution_count": 24,
      "outputs": [
        {
          "output_type": "execute_result",
          "data": {
            "text/plain": [
              "[<matplotlib.lines.Line2D at 0x7f9451eadd90>]"
            ]
          },
          "metadata": {},
          "execution_count": 24
        },
        {
          "output_type": "display_data",
          "data": {
            "image/png": "[encoded data removed]",
            "text/plain": [
              "<Figure size 432x288 with 1 Axes>"
            ]
          },
          "metadata": {
            "needs_background": "light"
          }
        }
      ]
    }
  ]
}